{
 "cells": [
  {
   "cell_type": "code",
   "execution_count": 1,
   "metadata": {},
   "outputs": [
    {
     "name": "stderr",
     "output_type": "stream",
     "text": [
      "[nltk_data] Downloading package punkt_tab to\n",
      "[nltk_data]     C:\\Users\\iranc\\AppData\\Roaming\\nltk_data...\n",
      "[nltk_data]   Package punkt_tab is already up-to-date!\n"
     ]
    },
    {
     "data": {
      "text/plain": [
       "True"
      ]
     },
     "execution_count": 1,
     "metadata": {},
     "output_type": "execute_result"
    }
   ],
   "source": [
    "import nltk\n",
    "from nltk.tokenize import word_tokenize\n",
    "from nltk import sent_tokenize\n",
    "nltk.download('punkt_tab')"
   ]
  },
  {
   "cell_type": "code",
   "execution_count": 4,
   "metadata": {},
   "outputs": [],
   "source": [
    "f = open(r'text.txt')\n",
    "text = f.read()"
   ]
  },
  {
   "cell_type": "code",
   "execution_count": null,
   "metadata": {},
   "outputs": [
    {
     "name": "stdout",
     "output_type": "stream",
     "text": [
      "['Праздник', 'фонарей', ',', 'улица', 'Шэньу', '.', 'По', 'обеим', 'сторонам', 'улицы', 'яблоку', 'негде', 'было', 'упасть', '.', 'Аристократия', 'и', 'знать', 'вела', 'праздные', 'беседы', 'на', 'верхних', 'этажах', 'зданий', ';', 'воины', 'императорской', 'армии', 'прокладывали', 'дорогу', ',', 'впечатляя', 'всех', 'своим', 'грозным', 'видом', 'и', 'звоном', 'брони', ';', 'из', 'белоснежных', 'рук', 'юных', 'дев', ',', 'легко', 'кружащихся', 'в', 'танце', ',', 'сыпались', 'дождём', 'лепестки', 'цветов', ',', 'так', 'что', 'невозможно', 'было', 'выбрать', ',', 'кто', 'же', 'очаровательнее', '—', 'девушки', 'или', 'цветы', ';', 'из', 'золотой', 'повозки', 'доносились', 'мелодичные', 'переливы', ',', 'плывущие', 'в', 'небе', 'над', 'столицей', '.', 'Завершала', 'процессию', 'великолепная', 'платформа', ',', 'запряжённая', 'шестнадцатью', 'белыми', 'лошадьми', ',', 'украшенными', 'золотыми', 'уздечками', '.', 'На', 'высокой', 'красочной', 'платформе', 'находился', 'тот', ',', 'кто', 'имел', 'честь', 'олицетворять', 'самого', 'Владыку', 'Шэньу', ',', 'он', 'и', 'привлекал', 'к', 'себе', 'восторженное', 'внимание', 'публики', '.', 'Во', 'время', 'торжественного', 'шествия', 'исполняющему', 'роль', 'Шэньу', 'надлежало', 'надеть', 'золотую', 'маску', ',', 'облачиться', 'в', 'парадные', 'одеяния', 'и', 'с', 'драгоценным', 'мечом', 'в', 'руках', 'исполнять', 'роль', 'первого', 'тысячелетнего', 'Бога', 'Войны', ',', 'борца', 'с', 'нечистью', '—', 'Шэньу', ',', 'императора', 'Цзюнь', 'У.', 'Удостоившийся', 'чести', 'быть', 'избранным', 'на', 'роль', 'Шэньу', 'возносился', 'на', 'вершину', 'славы', ',', 'поэтому', 'кандидатов', 'ожидал', 'весьма', 'тщательный', 'отбор', '.', 'В', 'этом', 'году', 'избранником', 'стал', 'Его', 'Высочество', 'наследный', 'принц', '.', 'Вся', 'страна', 'пребывала', 'в', 'уверенности', ',', 'что', 'он', 'непременно', 'станет', 'лучшим', 'исполнителем', 'роли', 'Шэньу', 'за', 'всю', 'историю', 'праздника', '.', 'Но', 'в', 'тот', 'день', 'что-то', 'пошло', 'не', 'совсем', 'так', ',', 'как', 'ожидалось', '.']\n"
     ]
    }
   ],
   "source": [
    "word_text=word_tokenize(text)\n",
    "words=list(t for t in word_text )\n",
    "print (words)"
   ]
  },
  {
   "cell_type": "code",
   "execution_count": 9,
   "metadata": {},
   "outputs": [],
   "source": [
    "import pymorphy3\n",
    "m = pymorphy3.MorphAnalyzer()\n"
   ]
  },
  {
   "cell_type": "code",
   "execution_count": 57,
   "metadata": {},
   "outputs": [
    {
     "name": "stdout",
     "output_type": "stream",
     "text": [
      "императорский армия\n",
      "золотой повозка\n",
      "великолепный платформа\n",
      "торжественный шествие\n",
      "золотой маска\n",
      "парадный одеяние\n",
      "драгоценный меч\n",
      "тысячелетний бог\n",
      "тщательный отбор\n",
      "высочество наследный\n",
      "наследный принц\n",
      "весь страна\n",
      "хороший исполнитель\n",
      "весь история\n"
     ]
    }
   ],
   "source": [
    "from itertools import pairwise\n",
    "\n",
    "\n",
    "for first, second in pairwise(words):\n",
    "    f=m.parse(first) [0]\n",
    "    s=m.parse(second) [0]\n",
    "    \n",
    "    if f.tag.POS not in ('NOUN', 'ADJF'):\n",
    "        continue\n",
    "    else: \n",
    "        \n",
    "        if (f.tag.POS =='NOUN'  and s.tag.POS =='ADJF' ) or (f.tag.POS =='ADJF'  and s.tag.POS =='NOUN' ):\n",
    "            if (f.tag.gender == s.tag.gender or f.tag.gender=='neut' or s.tag.gender=='neut') and f.tag.number == s.tag.number and f.tag.case == s.tag.case:\n",
    "                print (f.normal_form,  s.normal_form)\n",
    "             \n"
   ]
  }
 ],
 "metadata": {
  "kernelspec": {
   "display_name": "Python 3",
   "language": "python",
   "name": "python3"
  },
  "language_info": {
   "codemirror_mode": {
    "name": "ipython",
    "version": 3
   },
   "file_extension": ".py",
   "mimetype": "text/x-python",
   "name": "python",
   "nbconvert_exporter": "python",
   "pygments_lexer": "ipython3",
   "version": "3.13.0"
  }
 },
 "nbformat": 4,
 "nbformat_minor": 2
}
